{
 "cells": [
  {
   "cell_type": "code",
   "execution_count": null,
   "metadata": {},
   "outputs": [],
   "source": [
    "# Esercizi introduttivi\n",
    "In questo notebook ci sono degli esercizi introduttivi per cominciare a prendere confidenza con Python.  \n",
    "Risolvili direttamente qui dentro scrivendo il tuo codice e le tue celle markdown se si rende necessario spiegare cosa fa il tuo codice e perchè hai deciso di risolvere i problemi in un certo modo."
   ]
  },
  {
   "cell_type": "code",
   "execution_count": null,
   "metadata": {},
   "outputs": [],
   "source": [
    "## Esercizio 1\n",
    "Dichiara ed esegui una funzione \"somma\" che prenda in input due numeri e ne restituisca la somma."
   ]
  },
  {
   "cell_type": "code",
   "execution_count": 4,
   "metadata": {},
   "outputs": [
    {
     "name": "stdout",
     "output_type": "stream",
     "text": [
      "7\n"
     ]
    }
   ],
   "source": [
    "def somma(a,b):\n",
    "    c=a+b\n",
    "    print(c)\n",
    "somma(2,5)   "
   ]
  },
  {
   "cell_type": "markdown",
   "metadata": {},
   "source": [
    "## Esercizio 2\n",
    "Dichiara ed esegui una funzione \"somma_controllata\" che prenda in input due parametri e restituisca la somma soltanto nel caso in cui il tipo dei due parametri sia int o float. In caso contrario la funzione restituisce None. \n",
    "  \n",
    "**Consiglio**: per controllare il tipo si può fare un controllo usando la funzione type()."
   ]
  },
  {
   "cell_type": "code",
   "execution_count": 50,
   "metadata": {},
   "outputs": [
    {
     "name": "stdout",
     "output_type": "stream",
     "text": [
      "9\n"
     ]
    }
   ],
   "source": [
    "def somma_controllata(a,b):\n",
    "    c=a+b\n",
    "    if type(a)== type(b): #non sapevo se scritta così aveva senso, ma a quanto pare SI!!!\n",
    "        print (c)\n",
    "    else:\n",
    "        print (None)\n",
    "\n",
    "somma_controllata (2,7)"
   ]
  },
  {
   "cell_type": "code",
   "execution_count": 49,
   "metadata": {},
   "outputs": [
    {
     "name": "stdout",
     "output_type": "stream",
     "text": [
      "6\n",
      "7.699999999999999\n",
      "None\n"
     ]
    }
   ],
   "source": [
    "somma_controllata (2,4) # a e b sono interi, dunque mi restituisce un intero!\n",
    "somma_controllata(2.1,5.6) #  a e b sono float e dunque mi restituisce una somma float!\n",
    "somma_controllata(2.1,5) # a è int e b è float quindi mi restituisce none!"
   ]
  },
  {
   "cell_type": "markdown",
   "metadata": {},
   "source": [
    "## Esercizio 3\n",
    "Dichiara ed esegui una funzione \"somma_tutto\" che prenda in input una lista e restituisca la somma di tutti i valori al suo interno.  \n",
    "\n",
    "**Esempio**: somma_tutto(\\[2, 5, 7, 9]) -> 23  \n",
    "**Consiglio**: visto che non saprai quanti saranno i valori nella lista dovrai usare un ciclo for per scorrerli tutti."
   ]
  },
  {
   "cell_type": "code",
   "execution_count": 126,
   "metadata": {},
   "outputs": [
    {
     "name": "stdout",
     "output_type": "stream",
     "text": [
      "The sum is:  20\n"
     ]
    }
   ],
   "source": [
    "list = [2,4,6,8]     # devo essere sincera mi sono aiutato con internet! Purtroppo con le iterazioni faccio un po fatica!\n",
    "                        #Ovviamnete tu mi chiedevi di esplicitare una funzione (somma_tutto), ma in questo caso non ho la più pallida idea di come si possa fare!\n",
    "sum = 0\n",
    "for num in list:\n",
    "        sum = sum + num\n",
    "print (\"The sum is: \",sum)"
   ]
  },
  {
   "cell_type": "markdown",
   "metadata": {},
   "source": [
    "## Esercizio 4\n",
    "Dichiara ed esegui una funzione \"accumula_tutto\" che prenda in input una lista ed il nome di un'operazione che potrà essere \"somma\", \"differenza\" o \"prodotto\" e restituisca il risultato dell'operazione indicata applicata ai valori nella lista.\n",
    "\n",
    "**Esempio**:\n",
    "\n",
    "accumula_tutto(\\[2,3,4], \"somma\") -> 9  \n",
    "accumula_tutto(\\[2,3,4], \"differenza\") -> -5  \n",
    "accumula_tutto(\\[2,3,4], \"prodotto\") -> 24"
   ]
  },
  {
   "cell_type": "code",
   "execution_count": 144,
   "metadata": {},
   "outputs": [],
   "source": [
    "lista = [5,7,1,4]             \n",
    "somma=1\n",
    "def accumula_tutto (lista):\n",
    "    for n in lista:\n",
    "        somma=somma+n\n",
    "    print(somma)\n"
   ]
  },
  {
   "cell_type": "code",
   "execution_count": 145,
   "metadata": {},
   "outputs": [
    {
     "ename": "UnboundLocalError",
     "evalue": "local variable 'somma' referenced before assignment",
     "output_type": "error",
     "traceback": [
      "\u001b[0;31m---------------------------------------------------------------------------\u001b[0m",
      "\u001b[0;31mUnboundLocalError\u001b[0m                         Traceback (most recent call last)",
      "\u001b[0;32m<ipython-input-145-edadd5e3aec6>\u001b[0m in \u001b[0;36m<module>\u001b[0;34m\u001b[0m\n\u001b[0;32m----> 1\u001b[0;31m \u001b[0maccumula_tutto\u001b[0m\u001b[0;34m(\u001b[0m\u001b[0mlista\u001b[0m\u001b[0;34m)\u001b[0m\u001b[0;34m\u001b[0m\u001b[0;34m\u001b[0m\u001b[0m\n\u001b[0m",
      "\u001b[0;32m<ipython-input-144-d04033d7cf05>\u001b[0m in \u001b[0;36maccumula_tutto\u001b[0;34m(lista)\u001b[0m\n\u001b[1;32m      3\u001b[0m \u001b[0;32mdef\u001b[0m \u001b[0maccumula_tutto\u001b[0m \u001b[0;34m(\u001b[0m\u001b[0mlista\u001b[0m\u001b[0;34m)\u001b[0m\u001b[0;34m:\u001b[0m\u001b[0;34m\u001b[0m\u001b[0;34m\u001b[0m\u001b[0m\n\u001b[1;32m      4\u001b[0m     \u001b[0;32mfor\u001b[0m \u001b[0mn\u001b[0m \u001b[0;32min\u001b[0m \u001b[0mlista\u001b[0m\u001b[0;34m:\u001b[0m\u001b[0;34m\u001b[0m\u001b[0;34m\u001b[0m\u001b[0m\n\u001b[0;32m----> 5\u001b[0;31m         \u001b[0msomma\u001b[0m\u001b[0;34m=\u001b[0m\u001b[0msomma\u001b[0m\u001b[0;34m+\u001b[0m\u001b[0mn\u001b[0m\u001b[0;34m\u001b[0m\u001b[0;34m\u001b[0m\u001b[0m\n\u001b[0m\u001b[1;32m      6\u001b[0m     \u001b[0mprint\u001b[0m\u001b[0;34m(\u001b[0m\u001b[0msomma\u001b[0m\u001b[0;34m)\u001b[0m\u001b[0;34m\u001b[0m\u001b[0;34m\u001b[0m\u001b[0m\n",
      "\u001b[0;31mUnboundLocalError\u001b[0m: local variable 'somma' referenced before assignment"
     ]
    }
   ],
   "source": [
    "accumula_tutto(lista)"
   ]
  },
  {
   "cell_type": "code",
   "execution_count": 100,
   "metadata": {},
   "outputs": [
    {
     "name": "stdout",
     "output_type": "stream",
     "text": [
      "The sum is:  24\n"
     ]
    }
   ],
   "source": [
    "accumula_tutto = [2,8,5,9]\n",
    "sum = 0\n",
    "for num in accumula_tutto:\n",
    "        sum = sum + num\n",
    "print (\"The sum is: \",sum)"
   ]
  },
  {
   "cell_type": "markdown",
   "metadata": {},
   "source": [
    "## Esercizio 5\n",
    "Dichiara ed esegui una funzione \"divisibile\" che riceva come parametri due numeri (N e M) e restituisca True se N è divisibile per M.  \n",
    "\n",
    "**Consiglio**: l'operatore remainder (%) che restituisce il resto della divisione intera può essere utilizzato per fare questo tipo di controllo."
   ]
  },
  {
   "cell_type": "code",
   "execution_count": 111,
   "metadata": {},
   "outputs": [],
   "source": [
    "def divisibile(N,M):\n",
    "    if N%M == 0:\n",
    "        print ('True')\n",
    "    else:\n",
    "        print('False')"
   ]
  },
  {
   "cell_type": "code",
   "execution_count": 113,
   "metadata": {},
   "outputs": [
    {
     "name": "stdout",
     "output_type": "stream",
     "text": [
      "True\n",
      "False\n"
     ]
    }
   ],
   "source": [
    "divisibile (25,5)\n",
    "divisibile (14,5)"
   ]
  },
  {
   "cell_type": "markdown",
   "metadata": {},
   "source": [
    "## Esercizio 6\n",
    "Sfruttando la funzione \"divisibile\" dell'esercizio precedente scrivere ed eseguire una funzione \"filtra_divisibili\" che prenda come parametri una lista ed un numero N e restituisca la lista dei soli numeri divisibili per N compresi nella lista originale.  \n",
    "\n",
    "**Esempio**:\n",
    "\n",
    "filtra_divisibili(\\[2,7,6,5], 2): -> [2, 6]"
   ]
  },
  {
   "cell_type": "code",
   "execution_count": 123,
   "metadata": {},
   "outputs": [],
   "source": [
    "lista = [5,9,7,14,25,26,33,34,12]\n",
    "def filtra_divisibili (lista,N):\n",
    "    for n in lista:\n",
    "        if n% N == 0:\n",
    "            print (n) \n",
    "        else:\n",
    "            continue"
   ]
  },
  {
   "cell_type": "code",
   "execution_count": 124,
   "metadata": {
    "scrolled": true
   },
   "outputs": [
    {
     "name": "stdout",
     "output_type": "stream",
     "text": [
      "9\n",
      "33\n",
      "12\n"
     ]
    }
   ],
   "source": [
    "filtra_divisibili (lista,3)"
   ]
  },
  {
   "cell_type": "code",
   "execution_count": 125,
   "metadata": {},
   "outputs": [
    {
     "name": "stdout",
     "output_type": "stream",
     "text": [
      "7\n",
      "14\n"
     ]
    }
   ],
   "source": [
    "filtra_divisibili (lista,7)"
   ]
  },
  {
   "cell_type": "markdown",
   "metadata": {},
   "source": [
    "## Esercizio 7\n",
    "Scrivere ed eseguire una funzione \"occorrenze\" che prenda in input una frase ed una parola (due stringhe A e B) e restituisca il numero di occorrenze della parola B nella frase A.  \n",
    "\n",
    "**Esempio**: occorrenze(\"questa casa è una bella casa\", \"casa\") -> 2\n",
    "\n",
    "**Consiglio**: si può spezzare una stringa in una lista separandola sugli spazi usando il metodo split() delle stringhe come nell'esempio qui sotto:"
   ]
  },
  {
   "cell_type": "code",
   "execution_count": 88,
   "metadata": {},
   "outputs": [
    {
     "name": "stdout",
     "output_type": "stream",
     "text": [
      "<class 'str'>\n"
     ]
    }
   ],
   "source": [
    "frase = \"questa casa è una bella casa\"\n",
    "print(type(frase))"
   ]
  },
  {
   "cell_type": "code",
   "execution_count": 89,
   "metadata": {},
   "outputs": [
    {
     "name": "stdout",
     "output_type": "stream",
     "text": [
      "['questa', 'casa', 'è', 'una', 'bella', 'casa']\n"
     ]
    }
   ],
   "source": [
    "lista_parole = frase.split()\n",
    "print(lista_parole)"
   ]
  },
  {
   "cell_type": "code",
   "execution_count": 182,
   "metadata": {},
   "outputs": [
    {
     "name": "stdout",
     "output_type": "stream",
     "text": [
      "3\n"
     ]
    }
   ],
   "source": [
    "frase= 'il mio cane è un cane giocherellone e come la maggior parte degli animali è un tenero cane'\n",
    "conteggio= 0\n",
    "lista_parole = frase.split()\n",
    "for parola in lista_parole:\n",
    "    if parola == 'cane':\n",
    "           conteggio= conteggio +1\n",
    "print (conteggio)\n",
    "\n",
    "# PS: devo essere sincera ho fatto un po fatica a fare questo esercizio, questo perche faccio ancora fatica nelle iterazioni...  \n",
    "#ps.. qui non sono riuscita a definire la funzione"
   ]
  },
  {
   "cell_type": "markdown",
   "metadata": {},
   "source": [
    "## Esercizio 8\n",
    "Scrivere ed eseguire una funzione \"censura\" che prenda in input una frase ed una lista di parole da censurare e restituisca una frase simile all'originale ma con \"-bip-\" al posto delle parole da censurare.\n",
    "\n",
    "**Esempio**:\n",
    "\n",
    "censura(\"questa casa è una bella casa\", \\[\"casa\", \"bella\"]) -> \"questa -bip- è una -bip- -bip-\"\n",
    "\n",
    "**Consiglio**:\n",
    "Una lista di stringhe può essere riunita in un unica stringa usando il metodo .join() come nell'esempio qui sotto:"
   ]
  },
  {
   "cell_type": "code",
   "execution_count": 90,
   "metadata": {},
   "outputs": [
    {
     "data": {
      "text/plain": [
       "'questa -bip- è una -bip- -bip-'"
      ]
     },
     "execution_count": 90,
     "metadata": {},
     "output_type": "execute_result"
    }
   ],
   "source": [
    "lista_parole = [\"questa\", \"-bip-\", \"è\", \"una\", \"-bip-\", \"-bip-\"]\n",
    "\" \".join(lista_parole) # join si applica ad una str che si vuole usare come\n",
    "                        # intermezzo tra le parole da concatenare. In questo\n",
    "                        # caso uno spazio."
   ]
  },
  {
   "cell_type": "code",
   "execution_count": 189,
   "metadata": {},
   "outputs": [],
   "source": [
    "frase = ' il vero viaggio non consiste nello scoprire nuove terre ma nellavere nuovi occhi'\n",
    "lista= ['viaggio','terre','occhi']\n",
    "def censura(frase,lista):\n",
    "    for parola in frase:\n",
    "        if parola == lista:\n",
    "            print (lista==[bip])\n",
    "        else:\n",
    "            continue"
   ]
  }
 ],
 "metadata": {
  "kernelspec": {
   "display_name": "Python 3",
   "language": "python",
   "name": "python3"
  },
  "language_info": {
   "codemirror_mode": {
    "name": "ipython",
    "version": 3
   },
   "file_extension": ".py",
   "mimetype": "text/x-python",
   "name": "python",
   "nbconvert_exporter": "python",
   "pygments_lexer": "ipython3",
   "version": "3.8.3"
  }
 },
 "nbformat": 4,
 "nbformat_minor": 4
}
