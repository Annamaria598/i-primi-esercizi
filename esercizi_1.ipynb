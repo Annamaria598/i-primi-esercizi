{
 "cells": [
  {
   "cell_type": "code",
   "execution_count": null,
   "metadata": {},
   "outputs": [],
   "source": [
    "# Esercizi introduttivi\n",
    "In questo notebook ci sono degli esercizi introduttivi per cominciare a prendere confidenza con Python.  \n",
    "Risolvili direttamente qui dentro scrivendo il tuo codice e le tue celle markdown se si rende necessario spiegare cosa fa il tuo codice e perchè hai deciso di risolvere i problemi in un certo modo."
   ]
  },
  {
   "cell_type": "code",
   "execution_count": null,
   "metadata": {},
   "outputs": [],
   "source": [
    "## Esercizio 1\n",
    "Dichiara ed esegui una funzione \"somma\" che prenda in input due numeri e ne restituisca la somma."
   ]
  },
  {
   "cell_type": "code",
   "execution_count": 3,
   "metadata": {},
   "outputs": [
    {
     "name": "stdout",
     "output_type": "stream",
     "text": [
      "7\n"
     ]
    }
   ],
   "source": [
    "def somma(a,b):\n",
    "    c=a+b\n",
    "    print(c)\n",
    "somma(2,5)   "
   ]
  },
  {
   "cell_type": "markdown",
   "metadata": {},
   "source": [
    "## Esercizio 2\n",
    "Dichiara ed esegui una funzione \"somma_controllata\" che prenda in input due parametri e restituisca la somma soltanto nel caso in cui il tipo dei due parametri sia int o float. In caso contrario la funzione restituisce None. \n",
    "  \n",
    "**Consiglio**: per controllare il tipo si può fare un controllo usando la funzione type()."
   ]
  },
  {
   "cell_type": "markdown",
   "metadata": {},
   "source": [
    "### quando nella nota mi dici di fare il controllo sui paramentri, non ho ben capito dove devo farlo, ovvero  faccio ancora difficoltà nell'ordine del costrutto di un programma :(  ###"
   ]
  },
  {
   "cell_type": "code",
   "execution_count": 59,
   "metadata": {},
   "outputs": [
    {
     "data": {
      "text/plain": [
       "4.300000000000001"
      ]
     },
     "execution_count": 59,
     "metadata": {},
     "output_type": "execute_result"
    }
   ],
   "source": [
    " #PS: AVEVO CAPITO DALLA RICHIESTA DEL PROBLEMA CHE LA SOMMA DOVEVA ESSERE ESEGIUTA SE E SOLO SE A E B ERANO CONTEMPORANEAMENTE INT (O FLOAT)\n",
    "def somma_controllata(a,b):\n",
    "    if a and b == int  or float :\n",
    "        return (a+b) \n",
    "    else:\n",
    "        return (None)\n",
    "    \n",
    "somma_controllata(2,3)\n",
    "somma_controllata (2.2,2.1)"
   ]
  },
  {
   "cell_type": "markdown",
   "metadata": {},
   "source": [
    "### dunque affinchè mi stampa tutti i nemeri nella fuzione in [14], io al programma devo dargli sempre un print in stampa? giusto? ps: la dicitura dell'if non credevo si potesse scrivere in questo modo! magari se la prossima volta facciamo assieme degli esercizi di logica sarebbe meglio...almeno se seguita riesco a capire meglio! ###"
   ]
  },
  {
   "cell_type": "code",
   "execution_count": 10,
   "metadata": {},
   "outputs": [],
   "source": [
    "def somma_controllata(a,b):\n",
    "    if type(a) == int or type(a) == float and type(b) == int or type(b) == float:\n",
    "        print (a+b) \n",
    "    else:\n",
    "        return (None)"
   ]
  },
  {
   "cell_type": "code",
   "execution_count": 14,
   "metadata": {},
   "outputs": [
    {
     "name": "stdout",
     "output_type": "stream",
     "text": [
      "6\n",
      "4.6\n",
      "7.1\n"
     ]
    }
   ],
   "source": [
    "somma_controllata(2,4) # a e b sono interi, dunque mi restituisce un intero!\n",
    "somma_controllata(2.1,2.5) #  a e b sono float e dunque mi restituisce una somma float!\n",
    "somma_controllata(2.1,5) # a è int e b è float quindi mi restituisce none!"
   ]
  },
  {
   "cell_type": "markdown",
   "metadata": {},
   "source": [
    "## Esercizio 3\n",
    "Dichiara ed esegui una funzione \"somma_tutto\" che prenda in input una lista e restituisca la somma di tutti i valori al suo interno.  \n",
    "\n",
    "**Esempio**: somma_tutto(\\[2, 5, 7, 9]) -> 23  \n",
    "**Consiglio**: visto che non saprai quanti saranno i valori nella lista dovrai usare un ciclo for per scorrerli tutti."
   ]
  },
  {
   "cell_type": "code",
   "execution_count": 94,
   "metadata": {},
   "outputs": [
    {
     "name": "stdout",
     "output_type": "stream",
     "text": [
      "The sum is:  20\n"
     ]
    }
   ],
   "source": [
    "list = [2,4,6,8]     # devo essere sincera mi sono aiutato con internet! Purtroppo con le iterazioni faccio un po fatica!\n",
    "                        #Ovviamnete tu mi chiedevi di esplicitare una funzione (somma_tutto), ma in questo caso non ho la più pallida idea di come si possa fare!\n",
    "sum = 0\n",
    "for num in list:\n",
    "        sum = sum + num\n",
    "print (\"The sum is: \",sum)"
   ]
  },
  {
   "cell_type": "markdown",
   "metadata": {},
   "source": [
    "### esercizio 3 rieseguito espliciatando una funzione ###"
   ]
  },
  {
   "cell_type": "code",
   "execution_count": 22,
   "metadata": {},
   "outputs": [],
   "source": [
    "# l'ho rifatto... ma mi sorge un dubbione:::: cosa ne sa che ciò che chiamo nella funzione lista sia una lista vera e propria? forse la domanda risulta banale ma è anche su queste cose che mi inceppo!\n",
    "def somma_tutto(lista):\n",
    "\n",
    "    acc = 0\n",
    "    for num in lista:\n",
    "        acc = acc + num\n",
    "    return (acc)\n"
   ]
  },
  {
   "cell_type": "markdown",
   "metadata": {},
   "source": [
    "### qui è la stessa situazione di prima? ovvero se avessi messo il print il test mi abrebbe eseguito entrambe le funzioni qui sotto esplicitate?###"
   ]
  },
  {
   "cell_type": "code",
   "execution_count": 20,
   "metadata": {},
   "outputs": [
    {
     "data": {
      "text/plain": [
       "24"
      ]
     },
     "execution_count": 20,
     "metadata": {},
     "output_type": "execute_result"
    }
   ],
   "source": [
    "somma_tutto([3,2,5])\n",
    "somma_tutto ([2,5,8,9])"
   ]
  },
  {
   "cell_type": "markdown",
   "metadata": {},
   "source": [
    "## Esercizio 4\n",
    "Dichiara ed esegui una funzione \"accumula_tutto\" che prenda in input una lista ed il nome di un'operazione che potrà essere \"somma\", \"differenza\" o \"prodotto\" e restituisca il risultato dell'operazione indicata applicata ai valori nella lista.\n",
    "\n",
    "**Esempio**:\n",
    "\n",
    "accumula_tutto(\\[2,3,4], \"somma\") -> 9  \n",
    "accumula_tutto(\\[2,3,4], \"differenza\") -> -5  \n",
    "accumula_tutto(\\[2,3,4], \"prodotto\") -> 24"
   ]
  },
  {
   "cell_type": "markdown",
   "metadata": {},
   "source": [
    "### il tuo programma funziona alla grande ! ###\n",
    "### ps. il ragionamento tutto sommato l'ho capito! Ripeto però che faccio ancora difficolta nelle iterazioni, (ad es, faccio difficoltà, in questo esercizio quando vado a scrivere acc=0, acc= 1 ecc per i vari casi... se per la prossima volta mi spieghi meglio il raginamento da fare, te ne sarei molto grata! :) )###"
   ]
  },
  {
   "cell_type": "code",
   "execution_count": 1,
   "metadata": {},
   "outputs": [],
   "source": [
    "# ------------ inizio codice --------------\n",
    "\n",
    "def accumula_tutto(lista, operazione):\n",
    "\n",
    "    # controllo se l'operazione richiesta è la somma\n",
    "    \n",
    "    if operazione == \"somma\":\n",
    "\n",
    "        # eseguo la somma\n",
    "        acc = 0\n",
    "        for n in lista:\n",
    "            acc = acc + n\n",
    "\n",
    "\n",
    "    # se non era una somma\n",
    "    # controllo se si tratta di una differenza\n",
    "    \n",
    "    elif operazione == \"differenza\":\n",
    "\n",
    "        # eseguo la differenza\n",
    "        # questa volta la variabile accumulatrice\n",
    "        # deve partire dal primo valore invece che\n",
    "        # da 0\n",
    "        acc = lista[0]\n",
    "\n",
    "        # sottraggo tutti i valori nella lista \n",
    "        # dal secondo in poi\n",
    "        for n in lista[1:]:\n",
    "\n",
    "            acc = acc - n\n",
    "\n",
    "    # se non era nemmeno una differenza controllo\n",
    "    # se si tratta di un prodotto\n",
    "    \n",
    "    elif operazione == \"prodotto\":\n",
    "\n",
    "        # eseguo il prodotto. Ho due opzioni:\n",
    "        # inizializzare l'accumulatore a 1 e\n",
    "        # moltiplicare tutti gli elementi della lista\n",
    "        # oppure inizializzarlo al primo elemento\n",
    "        # e moltiplicarlo per tutti gli altri.\n",
    "\n",
    "        acc = 1\n",
    "\n",
    "        for n in lista:\n",
    "            acc = acc * n\n",
    "\n",
    "    # se nessuna delle precedenti era vera\n",
    "    # non conosco l'operazione richiesta dall'utente\n",
    "    # restituisco None\n",
    "\n",
    "    else:\n",
    "        return None\n",
    "\n",
    "    # Se sono entrato in uno dei primi tre casi allora\n",
    "    # non sono entrato nell'else, quindi dopo l'operazione\n",
    "    # scelta mi troverò in questa parte della funzione.\n",
    "    # Posso finalmente restituire il risultato ottenuto.\n",
    "\n",
    "    return acc"
   ]
  },
  {
   "cell_type": "code",
   "execution_count": 2,
   "metadata": {},
   "outputs": [
    {
     "name": "stdout",
     "output_type": "stream",
     "text": [
      "9\n",
      "-5\n",
      "24\n"
     ]
    }
   ],
   "source": [
    "print( accumula_tutto([2, 3, 4], \"somma\") )\n",
    "print( accumula_tutto([2, 3, 4], \"differenza\") )\n",
    "print( accumula_tutto([2, 3, 4], \"prodotto\") )\n"
   ]
  },
  {
   "cell_type": "markdown",
   "metadata": {},
   "source": [
    "## Esercizio 5\n",
    "Dichiara ed esegui una funzione \"divisibile\" che riceva come parametri due numeri (N e M) e restituisca True se N è divisibile per M.  \n",
    "\n",
    "**Consiglio**: l'operatore remainder (%) che restituisce il resto della divisione intera può essere utilizzato per fare questo tipo di controllo."
   ]
  },
  {
   "cell_type": "code",
   "execution_count": null,
   "metadata": {},
   "outputs": [],
   "source": [
    "def divisibile(N,M):\n",
    "    if N%M == 0:\n",
    "        print ('True')\n",
    "    else:\n",
    "        print('False')"
   ]
  },
  {
   "cell_type": "markdown",
   "metadata": {},
   "source": [
    "### esercizio 5 rieseguito ###\n"
   ]
  },
  {
   "cell_type": "code",
   "execution_count": 8,
   "metadata": {},
   "outputs": [],
   "source": [
    "def divisibile(N,M):\n",
    "     return (N%M == 0)\n"
   ]
  },
  {
   "cell_type": "code",
   "execution_count": 9,
   "metadata": {},
   "outputs": [
    {
     "data": {
      "text/plain": [
       "False"
      ]
     },
     "execution_count": 9,
     "metadata": {},
     "output_type": "execute_result"
    }
   ],
   "source": [
    "divisibile(25,5)\n",
    "divisibile(14,5)\n",
    "\n",
    "#facendo questo programmino non mi ritornano contemporaneamente i due risultati ma solo uno! perchè? riscrivendo sotto la prima funzione esce vera!\n"
   ]
  },
  {
   "cell_type": "code",
   "execution_count": 140,
   "metadata": {},
   "outputs": [
    {
     "data": {
      "text/plain": [
       "True"
      ]
     },
     "execution_count": 140,
     "metadata": {},
     "output_type": "execute_result"
    }
   ],
   "source": [
    "divisibile(25,5)"
   ]
  },
  {
   "cell_type": "markdown",
   "metadata": {},
   "source": [
    "## Esercizio 6\n",
    "Sfruttando la funzione \"divisibile\" dell'esercizio precedente scrivere ed eseguire una funzione \"filtra_divisibili\" che prenda come parametri una lista ed un numero N e restituisca la lista dei soli numeri divisibili per N compresi nella lista originale.  \n",
    "\n",
    "**Esempio**:\n",
    "\n",
    "filtra_divisibili(\\[2,7,6,5], 2): -> [2, 6]"
   ]
  },
  {
   "cell_type": "markdown",
   "metadata": {},
   "source": [
    "### quando mi dici di sfruttare la funzione precedente, esattemente cosa vuoi dire? è come se devo fare una funzione composta in matematica? quando invece mi dici :il ramo else del tuo if non è necessario. come posso capirlo fino in fondo quando un comando serve o no? ho provato a rifare l'esercizio giu, ma con scarsi risultati :( ###"
   ]
  },
  {
   "cell_type": "code",
   "execution_count": 10,
   "metadata": {},
   "outputs": [],
   "source": [
    "lista = [5,9,7,14,25,26,33,34,12]\n",
    "def filtra_divisibili(lista,N):\n",
    "    for n in lista:\n",
    "        if n% N == 0:\n",
    "            print (n) \n",
    "        else:\n",
    "            continue"
   ]
  },
  {
   "cell_type": "markdown",
   "metadata": {},
   "source": [
    "### esercizio rieseguito , ed esce! ###"
   ]
  },
  {
   "cell_type": "code",
   "execution_count": 13,
   "metadata": {},
   "outputs": [],
   "source": [
    "# ----------- inizio codice -------------------\n",
    "\n",
    "def filtra_divisibili(lista, N):\n",
    "\n",
    "    lista1 = []\n",
    "\n",
    "    # per ogni numero nella lisita originale\n",
    "    for n in lista:\n",
    "\n",
    "        # se è divisibile per N\n",
    "        if divisibile(n, N):\n",
    "\n",
    "            # mettilo nella lista che voglio restituire\n",
    "            lista1.append(n)\n",
    "\n",
    "    # qui sono fuori dal corpo del for\n",
    "    # quindi ho visto tutti i numeri della lisita\n",
    "    # e posso restituire il risultato\n",
    "    \n",
    "    return lista1\n",
    "\n",
    "\n",
    "       "
   ]
  },
  {
   "cell_type": "code",
   "execution_count": 14,
   "metadata": {},
   "outputs": [
    {
     "name": "stdout",
     "output_type": "stream",
     "text": [
      "[9, 33, 12]\n"
     ]
    }
   ],
   "source": [
    "# Proviamo ad usare la funzione\n",
    "lista = [5,9,7,14,25,26,33,34,12]\n",
    "print( filtra_divisibili(lista, 3) )"
   ]
  },
  {
   "cell_type": "markdown",
   "metadata": {},
   "source": [
    "## Esercizio 7\n",
    "Scrivere ed eseguire una funzione \"occorrenze\" che prenda in input una frase ed una parola (due stringhe A e B) e restituisca il numero di occorrenze della parola B nella frase A.  \n",
    "\n",
    "**Esempio**: occorrenze(\"questa casa è una bella casa\", \"casa\") -> 2\n",
    "\n",
    "**Consiglio**: si può spezzare una stringa in una lista separandola sugli spazi usando il metodo split() delle stringhe come nell'esempio qui sotto:"
   ]
  },
  {
   "cell_type": "code",
   "execution_count": null,
   "metadata": {},
   "outputs": [],
   "source": [
    "frase = \"questa casa è una bella casa\"\n",
    "print(type(frase))"
   ]
  },
  {
   "cell_type": "code",
   "execution_count": null,
   "metadata": {},
   "outputs": [],
   "source": [
    "lista_parole = frase.split()\n",
    "print(lista_parole)"
   ]
  },
  {
   "cell_type": "code",
   "execution_count": 22,
   "metadata": {},
   "outputs": [
    {
     "name": "stdout",
     "output_type": "stream",
     "text": [
      "3\n"
     ]
    }
   ],
   "source": [
    "frase= 'il mio cane è un cane giocherellone e come la maggior parte degli animali è un tenero cane'\n",
    "conteggio= 0\n",
    "lista_parole = frase.split()\n",
    "for parola in lista_parole:\n",
    "    if parola == 'cane':\n",
    "           conteggio= conteggio +1\n",
    "print (conteggio)\n",
    "\n",
    "# PS: devo essere sincera ho fatto un po fatica a fare questo esercizio, questo perche faccio ancora fatica nelle iterazioni...  \n",
    "#ps.. qui non sono riuscita a definire la funzione"
   ]
  },
  {
   "cell_type": "markdown",
   "metadata": {},
   "source": [
    " ##### in questo esercizio, come quello precedente quando mi parli di dichiarare fuori o dentro la funzione , intendi fuori e dentro al ciclo? o prorpio all'interno della funzione? (es.def occorrenze(......)),inoltre  faccio ancora difficoltà a creare un ciclo completo e faccio molta difficoltà nelle iterazioni :( ####"
   ]
  },
  {
   "cell_type": "code",
   "execution_count": 19,
   "metadata": {},
   "outputs": [],
   "source": [
    "#----------------- inizio codice ---------------\n",
    "\n",
    "def occorrenze(frase, stringa):\n",
    "\n",
    "    # separo la frase data dall'utente in una lista di parole\n",
    "    lista_parole = frase.split()\n",
    "\n",
    "    conteggio = 0\n",
    "\n",
    "    for parola in lista_parole:\n",
    "\n",
    "        # controllo se la parola corrente è uguale a quella\n",
    "        # che l'utente mi ha dato da contare\n",
    "        if parola == stringa:\n",
    "            conteggio = conteggio +1\n",
    "\n",
    "    return conteggio\n",
    "\n",
    "\n",
    "\n"
   ]
  },
  {
   "cell_type": "code",
   "execution_count": 21,
   "metadata": {},
   "outputs": [
    {
     "name": "stdout",
     "output_type": "stream",
     "text": [
      "2\n",
      "2\n"
     ]
    }
   ],
   "source": [
    "# utilizzo della funzione\n",
    "print(occorrenze(\"il mio cane è un grande cane\", \"cane\") )\n",
    "\n",
    "n = occorrenze(\"ho un piede e anche un altro piede\", \"piede\")\n",
    "print(n)"
   ]
  },
  {
   "cell_type": "code",
   "execution_count": 23,
   "metadata": {},
   "outputs": [
    {
     "data": {
      "text/plain": [
       "3"
      ]
     },
     "execution_count": 23,
     "metadata": {},
     "output_type": "execute_result"
    }
   ],
   "source": [
    "occorrenze('il mio cane è un cane giocherellone e come la maggior parte degli animali è un tenero cane','cane')"
   ]
  },
  {
   "cell_type": "markdown",
   "metadata": {},
   "source": [
    "### questo è più semplice ###"
   ]
  },
  {
   "cell_type": "code",
   "execution_count": 238,
   "metadata": {},
   "outputs": [
    {
     "name": "stdout",
     "output_type": "stream",
     "text": [
      "['il', 'mio', 'cane', 'è', 'un', 'cane', 'giocherellone', 'e', 'come', 'la', 'maggior', 'parte', 'degli', 'animali', 'è', 'un', 'tenero', 'cane']\n",
      "3\n"
     ]
    }
   ],
   "source": [
    "frase= 'il mio cane è un cane giocherellone e come la maggior parte degli animali è un tenero cane'\n",
    "lista_parole = frase.split()\n",
    "print(lista_parole)\n",
    "print(lista_parole.count('cane'))"
   ]
  },
  {
   "cell_type": "markdown",
   "metadata": {},
   "source": [
    "## Esercizio 8\n",
    "Scrivere ed eseguire una funzione \"censura\" che prenda in input una frase ed una lista di parole da censurare e restituisca una frase simile all'originale ma con \"-bip-\" al posto delle parole da censurare.\n",
    "\n",
    "**Esempio**:\n",
    "\n",
    "censura(\"questa casa è una bella casa\", \\[\"casa\", \"bella\"]) -> \"questa -bip- è una -bip- -bip-\"\n",
    "\n",
    "**Consiglio**:\n",
    "Una lista di stringhe può essere riunita in un unica stringa usando il metodo .join() come nell'esempio qui sotto:"
   ]
  },
  {
   "cell_type": "code",
   "execution_count": null,
   "metadata": {},
   "outputs": [],
   "source": [
    "lista_parole = [\"questa\", \"-bip-\", \"è\", \"una\", \"-bip-\", \"-bip-\"]\n",
    "\" \".join(lista_parole) # join si applica ad una str che si vuole usare come\n",
    "                        # intermezzo tra le parole da concatenare. In questo\n",
    "                        # caso uno spazio."
   ]
  },
  {
   "cell_type": "markdown",
   "metadata": {},
   "source": [
    "### devo essere sincera faccio un po fatica il ragionamento meccanico del pc, anche se sappiamo che esso è una stupida macchina! mah###"
   ]
  },
  {
   "cell_type": "code",
   "execution_count": 25,
   "metadata": {},
   "outputs": [],
   "source": [
    "# ------------------- inizio codice ----------------------\n",
    "\n",
    "def censura(frase, lista):\n",
    "\n",
    "    # divido la frase dell'utente in una lista di parole\n",
    "    lista_parole = frase.split()\n",
    "\n",
    "    # in questa lista metterò il mio risultato\n",
    "    lista1 = []\n",
    "\n",
    "    # per ogni parola della frase\n",
    "    for parola in lista_parole:\n",
    "\n",
    "        # se la parola è nella lista delle censurate:\n",
    "        if parola in lista:\n",
    "\n",
    "            # aggiungo \"-bip-\" invece della parola originale:\n",
    "            lista1.append(\"-bip-\")\n",
    "\n",
    "        # altrimenti\n",
    "        else:\n",
    "\n",
    "            # aggiungo la parola originale\n",
    "            lista1.append(parola)\n",
    "\n",
    "    # ricompongo la frase in una sola stringa come indicato\n",
    "    # nel consiglio nel testo dell'esercizio\n",
    "\n",
    "    frase_finale = \" \".join(lista1)\n",
    "\n",
    "    # restituisco la frase censurata\n",
    "    return frase_finale\n",
    "\n",
    "\n"
   ]
  },
  {
   "cell_type": "code",
   "execution_count": 26,
   "metadata": {},
   "outputs": [
    {
     "name": "stdout",
     "output_type": "stream",
     "text": [
      "il vero -bip- non consiste nello scoprire nuove -bip- ma nellavere nuovi -bip-\n",
      "La -bip- del -bip- ha un -bip- nella -bip-\n"
     ]
    }
   ],
   "source": [
    "# Utilizzo della funzione\n",
    "f = 'il vero viaggio non consiste nello scoprire nuove terre ma nellavere nuovi occhi'\n",
    "l = ['viaggio','terre','occhi']\n",
    "print( censura(f, l) )\n",
    "\n",
    "f = \"La macchina del capo ha un buco nella gomma\"\n",
    "l = [\"macchina\", \"capo\", \"buco\", \"gomma\"]\n",
    "frase_censurata = censura(f, l)\n",
    "print(frase_censurata)\n",
    "\n",
    "# --------------- fine del codice -------------------------"
   ]
  }
 ],
 "metadata": {
  "kernelspec": {
   "display_name": "Python 3",
   "language": "python",
   "name": "python3"
  },
  "language_info": {
   "codemirror_mode": {
    "name": "ipython",
    "version": 3
   },
   "file_extension": ".py",
   "mimetype": "text/x-python",
   "name": "python",
   "nbconvert_exporter": "python",
   "pygments_lexer": "ipython3",
   "version": "3.8.3"
  }
 },
 "nbformat": 4,
 "nbformat_minor": 4
}
