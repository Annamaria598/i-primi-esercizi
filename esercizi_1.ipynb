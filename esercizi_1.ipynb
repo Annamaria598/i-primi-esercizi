{
 "cells": [
  {
   "cell_type": "code",
   "execution_count": null,
   "metadata": {},
   "outputs": [],
   "source": [
    "# Esercizi introduttivi\n",
    "In questo notebook ci sono degli esercizi introduttivi per cominciare a prendere confidenza con Python.  \n",
    "Risolvili direttamente qui dentro scrivendo il tuo codice e le tue celle markdown se si rende necessario spiegare cosa fa il tuo codice e perchè hai deciso di risolvere i problemi in un certo modo."
   ]
  },
  {
   "cell_type": "code",
   "execution_count": null,
   "metadata": {},
   "outputs": [],
   "source": [
    "## Esercizio 1\n",
    "Dichiara ed esegui una funzione \"somma\" che prenda in input due numeri e ne restituisca la somma."
   ]
  },
  {
   "cell_type": "code",
   "execution_count": 4,
   "metadata": {},
   "outputs": [
    {
     "name": "stdout",
     "output_type": "stream",
     "text": [
      "7\n"
     ]
    }
   ],
   "source": [
    "def somma(a,b):\n",
    "    c=a+b\n",
    "    print(c)\n",
    "somma(2,5)   "
   ]
  },
  {
   "cell_type": "markdown",
   "metadata": {},
   "source": [
    "## Esercizio 2\n",
    "Dichiara ed esegui una funzione \"somma_controllata\" che prenda in input due parametri e restituisca la somma soltanto nel caso in cui il tipo dei due parametri sia int o float. In caso contrario la funzione restituisce None. \n",
    "  \n",
    "**Consiglio**: per controllare il tipo si può fare un controllo usando la funzione type()."
   ]
  },
  {
   "cell_type": "markdown",
   "metadata": {},
   "source": [
    "### quando nella nota mi dici di fare il controllo sui paramentri, non ho ben capito dove devo farlo, ovvero  faccio ancora difficoltà nell'ordine del costrutto di un programma :(  ###"
   ]
  },
  {
   "cell_type": "code",
   "execution_count": 59,
   "metadata": {},
   "outputs": [
    {
     "data": {
      "text/plain": [
       "4.300000000000001"
      ]
     },
     "execution_count": 59,
     "metadata": {},
     "output_type": "execute_result"
    }
   ],
   "source": [
    " #PS: AVEVO CAPITO DALLA RICHIESTA DEL PROBLEMA CHE LA SOMMA DOVEVA ESSERE ESEGIUTA SE E SOLO SE A E B ERANO CONTEMPORANEAMENTE INT (O FLOAT)\n",
    "def somma_controllata(a,b):\n",
    "    if a and b == int  or float :\n",
    "        return (a+b) \n",
    "    else:\n",
    "        return\n",
    "    \n",
    "somma_controllata(2,3)\n",
    "somma_controllata (2.2,2.1)"
   ]
  },
  {
   "cell_type": "code",
   "execution_count": 57,
   "metadata": {},
   "outputs": [
    {
     "data": {
      "text/plain": [
       "7.1"
      ]
     },
     "execution_count": 57,
     "metadata": {},
     "output_type": "execute_result"
    }
   ],
   "source": [
    "somma_controllata (2,4) # a e b sono interi, dunque mi restituisce un intero!\n",
    "somma_controllata(2.1,5.6) #  a e b sono float e dunque mi restituisce una somma float!\n",
    "somma_controllata(2.1,5) # a è int e b è float quindi mi restituisce none!"
   ]
  },
  {
   "cell_type": "markdown",
   "metadata": {},
   "source": [
    "## Esercizio 3\n",
    "Dichiara ed esegui una funzione \"somma_tutto\" che prenda in input una lista e restituisca la somma di tutti i valori al suo interno.  \n",
    "\n",
    "**Esempio**: somma_tutto(\\[2, 5, 7, 9]) -> 23  \n",
    "**Consiglio**: visto che non saprai quanti saranno i valori nella lista dovrai usare un ciclo for per scorrerli tutti."
   ]
  },
  {
   "cell_type": "code",
   "execution_count": 94,
   "metadata": {},
   "outputs": [
    {
     "name": "stdout",
     "output_type": "stream",
     "text": [
      "The sum is:  20\n"
     ]
    }
   ],
   "source": [
    "list = [2,4,6,8]     # devo essere sincera mi sono aiutato con internet! Purtroppo con le iterazioni faccio un po fatica!\n",
    "                        #Ovviamnete tu mi chiedevi di esplicitare una funzione (somma_tutto), ma in questo caso non ho la più pallida idea di come si possa fare!\n",
    "sum = 0\n",
    "for num in list:\n",
    "        sum = sum + num\n",
    "print (\"The sum is: \",sum)"
   ]
  },
  {
   "cell_type": "markdown",
   "metadata": {},
   "source": [
    "### esercizio 3 rieseguito espliciatando una funzione ###"
   ]
  },
  {
   "cell_type": "code",
   "execution_count": 113,
   "metadata": {},
   "outputs": [],
   "source": [
    "# l'ho rifatto... ma mi sorge un dubbione:::: cosa ne sa che ciò che chiamo nella funzione lista sia una lista vera e propria? forse la domanda risulta banale ma è anche su queste cose che mi inceppo!\n",
    "def somma_tutto(lista):\n",
    "\n",
    "    acc = 0\n",
    "    for num in lista:\n",
    "        acc = acc + num\n",
    "    print (\"The sum is: \",acc) \n"
   ]
  },
  {
   "cell_type": "code",
   "execution_count": 114,
   "metadata": {},
   "outputs": [
    {
     "name": "stdout",
     "output_type": "stream",
     "text": [
      "The sum is:  10\n",
      "The sum is:  24\n"
     ]
    }
   ],
   "source": [
    "somma_tutto([3,2,5])\n",
    "somma_tutto ([2,5,8,9])"
   ]
  },
  {
   "cell_type": "markdown",
   "metadata": {},
   "source": [
    "## Esercizio 4\n",
    "Dichiara ed esegui una funzione \"accumula_tutto\" che prenda in input una lista ed il nome di un'operazione che potrà essere \"somma\", \"differenza\" o \"prodotto\" e restituisca il risultato dell'operazione indicata applicata ai valori nella lista.\n",
    "\n",
    "**Esempio**:\n",
    "\n",
    "accumula_tutto(\\[2,3,4], \"somma\") -> 9  \n",
    "accumula_tutto(\\[2,3,4], \"differenza\") -> -5  \n",
    "accumula_tutto(\\[2,3,4], \"prodotto\") -> 24"
   ]
  },
  {
   "cell_type": "markdown",
   "metadata": {},
   "source": [
    "### questo proprio non so come farlo :( ###"
   ]
  },
  {
   "cell_type": "code",
   "execution_count": 5,
   "metadata": {},
   "outputs": [
    {
     "ename": "NameError",
     "evalue": "name 'a' is not defined",
     "output_type": "error",
     "traceback": [
      "\u001b[0;31m---------------------------------------------------------------------------\u001b[0m",
      "\u001b[0;31mNameError\u001b[0m                                 Traceback (most recent call last)",
      "\u001b[0;32m<ipython-input-5-c853a11e8928>\u001b[0m in \u001b[0;36m<module>\u001b[0;34m\u001b[0m\n\u001b[1;32m      1\u001b[0m \u001b[0mlista\u001b[0m \u001b[0;34m=\u001b[0m \u001b[0;34m[\u001b[0m\u001b[0;36m5\u001b[0m\u001b[0;34m,\u001b[0m\u001b[0;36m7\u001b[0m\u001b[0;34m,\u001b[0m\u001b[0;36m1\u001b[0m\u001b[0;34m,\u001b[0m\u001b[0;36m4\u001b[0m\u001b[0;34m]\u001b[0m\u001b[0;34m\u001b[0m\u001b[0;34m\u001b[0m\u001b[0m\n\u001b[0;32m----> 2\u001b[0;31m \u001b[0msomma\u001b[0m \u001b[0;34m=\u001b[0m \u001b[0ma\u001b[0m\u001b[0;34m+\u001b[0m\u001b[0mb\u001b[0m\u001b[0;34m+\u001b[0m\u001b[0mc\u001b[0m\u001b[0;34m\u001b[0m\u001b[0;34m\u001b[0m\u001b[0m\n\u001b[0m\u001b[1;32m      3\u001b[0m \u001b[0mdifferenza\u001b[0m\u001b[0;34m=\u001b[0m \u001b[0ma\u001b[0m\u001b[0;34m-\u001b[0m\u001b[0mb\u001b[0m\u001b[0;34m-\u001b[0m\u001b[0mc\u001b[0m\u001b[0;34m\u001b[0m\u001b[0;34m\u001b[0m\u001b[0m\n\u001b[1;32m      4\u001b[0m \u001b[0mprodotto\u001b[0m \u001b[0;34m=\u001b[0m \u001b[0ma\u001b[0m\u001b[0;34m*\u001b[0m\u001b[0mb\u001b[0m\u001b[0;34m*\u001b[0m\u001b[0mc\u001b[0m\u001b[0;34m\u001b[0m\u001b[0;34m\u001b[0m\u001b[0m\n\u001b[1;32m      5\u001b[0m \u001b[0;32mdef\u001b[0m \u001b[0maccumula_tutto\u001b[0m \u001b[0;34m(\u001b[0m\u001b[0mlista\u001b[0m\u001b[0;34m,\u001b[0m\u001b[0msomma\u001b[0m\u001b[0;34m)\u001b[0m\u001b[0;34m:\u001b[0m\u001b[0;34m\u001b[0m\u001b[0;34m\u001b[0m\u001b[0m\n",
      "\u001b[0;31mNameError\u001b[0m: name 'a' is not defined"
     ]
    }
   ],
   "source": [
    "lista = [5,7,1,4]             \n",
    "somma = a+b+c\n",
    "differenza= a-b-c\n",
    "prodotto = a*b*c\n",
    "def accumula_tutto (lista,somma):\n",
    "    \n",
    "    for n in lista:\n",
    "        \n",
    "        if a+b+c:\n",
    "            print ('somma')\n",
    "        elif a-b-c:\n",
    "            print ('differenza')\n",
    "        else :\n",
    "            a*b*c\n",
    "            \n",
    "\n",
    "  \n"
   ]
  },
  {
   "cell_type": "code",
   "execution_count": 96,
   "metadata": {},
   "outputs": [
    {
     "ename": "UnboundLocalError",
     "evalue": "local variable 'somma' referenced before assignment",
     "output_type": "error",
     "traceback": [
      "\u001b[0;31m---------------------------------------------------------------------------\u001b[0m",
      "\u001b[0;31mUnboundLocalError\u001b[0m                         Traceback (most recent call last)",
      "\u001b[0;32m<ipython-input-96-edadd5e3aec6>\u001b[0m in \u001b[0;36m<module>\u001b[0;34m\u001b[0m\n\u001b[0;32m----> 1\u001b[0;31m \u001b[0maccumula_tutto\u001b[0m\u001b[0;34m(\u001b[0m\u001b[0mlista\u001b[0m\u001b[0;34m)\u001b[0m\u001b[0;34m\u001b[0m\u001b[0;34m\u001b[0m\u001b[0m\n\u001b[0m",
      "\u001b[0;32m<ipython-input-95-d04033d7cf05>\u001b[0m in \u001b[0;36maccumula_tutto\u001b[0;34m(lista)\u001b[0m\n\u001b[1;32m      3\u001b[0m \u001b[0;32mdef\u001b[0m \u001b[0maccumula_tutto\u001b[0m \u001b[0;34m(\u001b[0m\u001b[0mlista\u001b[0m\u001b[0;34m)\u001b[0m\u001b[0;34m:\u001b[0m\u001b[0;34m\u001b[0m\u001b[0;34m\u001b[0m\u001b[0m\n\u001b[1;32m      4\u001b[0m     \u001b[0;32mfor\u001b[0m \u001b[0mn\u001b[0m \u001b[0;32min\u001b[0m \u001b[0mlista\u001b[0m\u001b[0;34m:\u001b[0m\u001b[0;34m\u001b[0m\u001b[0;34m\u001b[0m\u001b[0m\n\u001b[0;32m----> 5\u001b[0;31m         \u001b[0msomma\u001b[0m\u001b[0;34m=\u001b[0m\u001b[0msomma\u001b[0m\u001b[0;34m+\u001b[0m\u001b[0mn\u001b[0m\u001b[0;34m\u001b[0m\u001b[0;34m\u001b[0m\u001b[0m\n\u001b[0m\u001b[1;32m      6\u001b[0m     \u001b[0mprint\u001b[0m\u001b[0;34m(\u001b[0m\u001b[0msomma\u001b[0m\u001b[0;34m)\u001b[0m\u001b[0;34m\u001b[0m\u001b[0;34m\u001b[0m\u001b[0m\n",
      "\u001b[0;31mUnboundLocalError\u001b[0m: local variable 'somma' referenced before assignment"
     ]
    }
   ],
   "source": [
    "#accumula_tutto(lista)"
   ]
  },
  {
   "cell_type": "code",
   "execution_count": 1,
   "metadata": {},
   "outputs": [
    {
     "name": "stdout",
     "output_type": "stream",
     "text": [
      "The sum is:  24\n"
     ]
    }
   ],
   "source": [
    "accumula_tutto = [2,8,5,9]\n",
    "sum = 0\n",
    "for num in accumula_tutto:\n",
    "        sum = sum + num\n",
    "print (\"The sum is: \",sum)"
   ]
  },
  {
   "cell_type": "markdown",
   "metadata": {},
   "source": [
    "## Esercizio 5\n",
    "Dichiara ed esegui una funzione \"divisibile\" che riceva come parametri due numeri (N e M) e restituisca True se N è divisibile per M.  \n",
    "\n",
    "**Consiglio**: l'operatore remainder (%) che restituisce il resto della divisione intera può essere utilizzato per fare questo tipo di controllo."
   ]
  },
  {
   "cell_type": "code",
   "execution_count": null,
   "metadata": {},
   "outputs": [],
   "source": [
    "def divisibile(N,M):\n",
    "    if N%M == 0:\n",
    "        print ('True')\n",
    "    else:\n",
    "        print('False')"
   ]
  },
  {
   "cell_type": "markdown",
   "metadata": {},
   "source": [
    "### esercizio 5 rieseguito ###"
   ]
  },
  {
   "cell_type": "code",
   "execution_count": 133,
   "metadata": {},
   "outputs": [],
   "source": [
    "def divisibile(N,M):\n",
    "     return (N%M == 0)\n"
   ]
  },
  {
   "cell_type": "code",
   "execution_count": 139,
   "metadata": {},
   "outputs": [
    {
     "data": {
      "text/plain": [
       "False"
      ]
     },
     "execution_count": 139,
     "metadata": {},
     "output_type": "execute_result"
    }
   ],
   "source": [
    "divisibile(25,5)\n",
    "divisibile(14,5)\n",
    "\n",
    "#facendo questo programmino non mi ritornano contemporaneamente i due risultati ma solo uno! perchè? riscrivendo sotto la prima funzione esce vera!\n"
   ]
  },
  {
   "cell_type": "code",
   "execution_count": 140,
   "metadata": {},
   "outputs": [
    {
     "data": {
      "text/plain": [
       "True"
      ]
     },
     "execution_count": 140,
     "metadata": {},
     "output_type": "execute_result"
    }
   ],
   "source": [
    "divisibile(25,5)"
   ]
  },
  {
   "cell_type": "markdown",
   "metadata": {},
   "source": [
    "## Esercizio 6\n",
    "Sfruttando la funzione \"divisibile\" dell'esercizio precedente scrivere ed eseguire una funzione \"filtra_divisibili\" che prenda come parametri una lista ed un numero N e restituisca la lista dei soli numeri divisibili per N compresi nella lista originale.  \n",
    "\n",
    "**Esempio**:\n",
    "\n",
    "filtra_divisibili(\\[2,7,6,5], 2): -> [2, 6]"
   ]
  },
  {
   "cell_type": "markdown",
   "metadata": {},
   "source": [
    "### quando mi dici di sfruttare la funzione precedente, esattemente cosa vuoi dire? è come se devo fare una funzione composta in matematica? quando invece mi dici :il ramo else del tuo if non è necessario. come posso capirlo fino in fondo quando un comando serve o no? ho provato a rifare l'esercizio giu, ma con scarsi risultati :( ###"
   ]
  },
  {
   "cell_type": "code",
   "execution_count": 143,
   "metadata": {},
   "outputs": [],
   "source": [
    "lista = [5,9,7,14,25,26,33,34,12]\n",
    "def filtra_divisibili(lista,N):\n",
    "    for n in lista:\n",
    "        if n% N == 0:\n",
    "            print (n) \n",
    "        else:\n",
    "            continue"
   ]
  },
  {
   "cell_type": "markdown",
   "metadata": {},
   "source": [
    "### esercizio rieseguito ma mi sono bloccata ###"
   ]
  },
  {
   "cell_type": "code",
   "execution_count": 166,
   "metadata": {},
   "outputs": [],
   "source": [
    "lista = [5,9,7,14,25,26,33,34,12]\n",
    "def filtra_divisibili (divisibile):\n",
    "    lista1=[]\n",
    "    for n in lista:\n",
    "        if n% N== 0:\n",
    "            print(n)\n",
    "        continue\n",
    "        #lista1 = lista1+1\n",
    "        #print (n) \n",
    "   # return (lista1)\n",
    "       "
   ]
  },
  {
   "cell_type": "code",
   "execution_count": 167,
   "metadata": {
    "scrolled": true
   },
   "outputs": [
    {
     "ename": "TypeError",
     "evalue": "filtra_divisibili() takes 1 positional argument but 2 were given",
     "output_type": "error",
     "traceback": [
      "\u001b[0;31m---------------------------------------------------------------------------\u001b[0m",
      "\u001b[0;31mTypeError\u001b[0m                                 Traceback (most recent call last)",
      "\u001b[0;32m<ipython-input-167-9599bdff4208>\u001b[0m in \u001b[0;36m<module>\u001b[0;34m\u001b[0m\n\u001b[0;32m----> 1\u001b[0;31m \u001b[0mfiltra_divisibili\u001b[0m \u001b[0;34m(\u001b[0m\u001b[0mlista\u001b[0m\u001b[0;34m,\u001b[0m\u001b[0;36m3\u001b[0m\u001b[0;34m)\u001b[0m\u001b[0;34m\u001b[0m\u001b[0;34m\u001b[0m\u001b[0m\n\u001b[0m",
      "\u001b[0;31mTypeError\u001b[0m: filtra_divisibili() takes 1 positional argument but 2 were given"
     ]
    }
   ],
   "source": [
    "filtra_divisibili (lista,3)"
   ]
  },
  {
   "cell_type": "code",
   "execution_count": null,
   "metadata": {},
   "outputs": [],
   "source": [
    "filtra_divisibili (lista,7)"
   ]
  },
  {
   "cell_type": "markdown",
   "metadata": {},
   "source": [
    "## Esercizio 7\n",
    "Scrivere ed eseguire una funzione \"occorrenze\" che prenda in input una frase ed una parola (due stringhe A e B) e restituisca il numero di occorrenze della parola B nella frase A.  \n",
    "\n",
    "**Esempio**: occorrenze(\"questa casa è una bella casa\", \"casa\") -> 2\n",
    "\n",
    "**Consiglio**: si può spezzare una stringa in una lista separandola sugli spazi usando il metodo split() delle stringhe come nell'esempio qui sotto:"
   ]
  },
  {
   "cell_type": "code",
   "execution_count": null,
   "metadata": {},
   "outputs": [],
   "source": [
    "frase = \"questa casa è una bella casa\"\n",
    "print(type(frase))"
   ]
  },
  {
   "cell_type": "code",
   "execution_count": null,
   "metadata": {},
   "outputs": [],
   "source": [
    "lista_parole = frase.split()\n",
    "print(lista_parole)"
   ]
  },
  {
   "cell_type": "code",
   "execution_count": 22,
   "metadata": {},
   "outputs": [
    {
     "name": "stdout",
     "output_type": "stream",
     "text": [
      "3\n"
     ]
    }
   ],
   "source": [
    "frase= 'il mio cane è un cane giocherellone e come la maggior parte degli animali è un tenero cane'\n",
    "conteggio= 0\n",
    "lista_parole = frase.split()\n",
    "for parola in lista_parole:\n",
    "    if parola == 'cane':\n",
    "           conteggio= conteggio +1\n",
    "print (conteggio)\n",
    "\n",
    "# PS: devo essere sincera ho fatto un po fatica a fare questo esercizio, questo perche faccio ancora fatica nelle iterazioni...  \n",
    "#ps.. qui non sono riuscita a definire la funzione"
   ]
  },
  {
   "cell_type": "markdown",
   "metadata": {},
   "source": [
    " ##### in questo esercizio, come quello precedente quando mi parli di dichiarare fuori o dentro la funzione , intendi fuori e dentro al ciclo? o prorpio all'interno della funzione? (es.def occorrenze(......)),inoltre  faccio ancora difficoltà a creare un ciclo completo e faccio molta difficoltà nelle iterazioni :( ####"
   ]
  },
  {
   "cell_type": "code",
   "execution_count": 28,
   "metadata": {},
   "outputs": [],
   "source": [
    "#frase= 'il mio cane è un cane giocherellone e come la maggior parte degli animali è un tenero cane'\n",
    "def occorrenze(lista_parole, stringa):\n",
    "    frase= 'il mio cane è un cane giocherellone e come la maggior parte degli animali è un tenero cane'\n",
    "    conteggio= 0\n",
    "    lista_parole = frase.split()\n",
    "    for parola in lista_parole:\n",
    "        if parola == 'cane':\n",
    "             conteggio= conteggio +1\n",
    "    return (conteggio)\n"
   ]
  },
  {
   "cell_type": "code",
   "execution_count": 34,
   "metadata": {},
   "outputs": [],
   "source": [
    "frase = 'essere o non essere'\n",
    "lista_parole = frase.split()\n",
    "stringa= 'essere'\n",
    "occorrenze(lista_parole,'essere')"
   ]
  },
  {
   "cell_type": "markdown",
   "metadata": {},
   "source": [
    "### realmente il ciclo su scritto [233] non funziona ###"
   ]
  },
  {
   "cell_type": "code",
   "execution_count": 32,
   "metadata": {},
   "outputs": [],
   "source": [
    "occorrenze('il mio cane è un cane giocherellone e come la maggior parte degli animali è un tenero cane','cane')"
   ]
  },
  {
   "cell_type": "markdown",
   "metadata": {},
   "source": [
    "### questo è più semplice ###"
   ]
  },
  {
   "cell_type": "code",
   "execution_count": 238,
   "metadata": {},
   "outputs": [
    {
     "name": "stdout",
     "output_type": "stream",
     "text": [
      "['il', 'mio', 'cane', 'è', 'un', 'cane', 'giocherellone', 'e', 'come', 'la', 'maggior', 'parte', 'degli', 'animali', 'è', 'un', 'tenero', 'cane']\n",
      "3\n"
     ]
    }
   ],
   "source": [
    "frase= 'il mio cane è un cane giocherellone e come la maggior parte degli animali è un tenero cane'\n",
    "lista_parole = frase.split()\n",
    "print(lista_parole)\n",
    "print(lista_parole.count('cane'))"
   ]
  },
  {
   "cell_type": "markdown",
   "metadata": {},
   "source": [
    "## Esercizio 8\n",
    "Scrivere ed eseguire una funzione \"censura\" che prenda in input una frase ed una lista di parole da censurare e restituisca una frase simile all'originale ma con \"-bip-\" al posto delle parole da censurare.\n",
    "\n",
    "**Esempio**:\n",
    "\n",
    "censura(\"questa casa è una bella casa\", \\[\"casa\", \"bella\"]) -> \"questa -bip- è una -bip- -bip-\"\n",
    "\n",
    "**Consiglio**:\n",
    "Una lista di stringhe può essere riunita in un unica stringa usando il metodo .join() come nell'esempio qui sotto:"
   ]
  },
  {
   "cell_type": "code",
   "execution_count": null,
   "metadata": {},
   "outputs": [],
   "source": [
    "lista_parole = [\"questa\", \"-bip-\", \"è\", \"una\", \"-bip-\", \"-bip-\"]\n",
    "\" \".join(lista_parole) # join si applica ad una str che si vuole usare come\n",
    "                        # intermezzo tra le parole da concatenare. In questo\n",
    "                        # caso uno spazio."
   ]
  },
  {
   "cell_type": "markdown",
   "metadata": {},
   "source": [
    "### lista vuota? ma dove devo dichiarala? lho provato a rifarlo giu [50], ma... ###"
   ]
  },
  {
   "cell_type": "code",
   "execution_count": 45,
   "metadata": {},
   "outputs": [],
   "source": [
    "frase = ' il vero viaggio non consiste nello scoprire nuove terre ma nellavere nuovi occhi'\n",
    "lista= ['viaggio','terre','occhi']\n",
    "def censura(frase,lista):\n",
    "    for parola in frase:\n",
    "        if parola == lista:\n",
    "            print (lista==[bip])\n",
    "        else:\n",
    "            continue"
   ]
  },
  {
   "cell_type": "code",
   "execution_count": 50,
   "metadata": {},
   "outputs": [],
   "source": [
    "frase = ' il vero viaggio non consiste nello scoprire nuove terre ma nellavere nuovi occhi'\n",
    "lista= ['viaggio','terre','occhi']\n",
    "lista_parole= frase.split()\n",
    "lista1= []\n",
    "def censura(frase,lista):\n",
    "    for lista_parole in frase:\n",
    "        if parola in lista:\n",
    "            lista1.append(bip)\n",
    "            return\n",
    "            "
   ]
  }
 ],
 "metadata": {
  "kernelspec": {
   "display_name": "Python 3",
   "language": "python",
   "name": "python3"
  },
  "language_info": {
   "codemirror_mode": {
    "name": "ipython",
    "version": 3
   },
   "file_extension": ".py",
   "mimetype": "text/x-python",
   "name": "python",
   "nbconvert_exporter": "python",
   "pygments_lexer": "ipython3",
   "version": "3.8.3"
  }
 },
 "nbformat": 4,
 "nbformat_minor": 4
}
