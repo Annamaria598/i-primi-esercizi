{
 "cells": [
  {
   "cell_type": "markdown",
   "metadata": {},
   "source": [
    "# Secondo batch di esercizi\n",
    "In questi esercizi facciamo un po' di pratica nella creazione di espressioni logiche."
   ]
  },
  {
   "cell_type": "markdown",
   "metadata": {},
   "source": [
    "## Consigli generali\n",
    "Esistono alcune buone pratiche da usare quando si fanno dei controlli su delle liste. Prime degli esercizi te ne mostro degli esempi.\n",
    "\n",
    "### Controllare che almeno un elemento in una lista soddisfi una condizione\n",
    "Quando ti trovi in questo caso hai bisogno di ciclare sulla lista soltanto finchè la tua condizione non è soddisfatta. Appena soddisfatta la condizione puoi eseguire l'operazione richiesta, per esempio restituire il risultato. Es:"
   ]
  },
  {
   "cell_type": "code",
   "execution_count": 1,
   "metadata": {},
   "outputs": [],
   "source": [
    "# almeno un elemento di L soddisfa la condizione?\n",
    "def almeno_uno(L):\n",
    "    \n",
    "    for elemento in L:  # per ogni elemento\n",
    "        \n",
    "        if condizione(elemento): # se soddisfa la condizione\n",
    "            return True    # ferma tutto, puoi già dire True\n",
    "    \n",
    "    return False    # se finisco tutto il ciclo senza uscire\n",
    "                    # vuol dire che nessun elemento soddisfaceva\n",
    "                    # la condizione, quindi posso restituire false\n",
    "                    # senza bisogno di fare ulteriori controlli"
   ]
  },
  {
   "cell_type": "markdown",
   "metadata": {},
   "source": [
    "### Controllare che tutti gli elementi in una lista soddisfino una condizione\n",
    "Questo caso è complementare al precedente, dovrai ciclare su tutti gli elementi e potrai restituire False appena trovato uno che non soddisfi la condizione. Se riesci a completare tutto il ciclo senza fare return vuol dire che tutti gli elementi la soddisfano:"
   ]
  },
  {
   "cell_type": "code",
   "execution_count": 2,
   "metadata": {},
   "outputs": [],
   "source": [
    "# Tutti gli elementi di L soddisfano una condizione?\n",
    "def tutti(L):\n",
    "    \n",
    "    for elemento in L:  # per ogni elemento\n",
    "        \n",
    "        if not condizione(elemento): # se non soddisfa la condizione\n",
    "            return False    # ferma tutto, puoi già dire False\n",
    "    \n",
    "    return True    # se finisco tutto il ciclo senza uscire\n",
    "                    # vuol dire che tutti gli elementi soddisfano\n",
    "                    # la condizione. Restituisco True."
   ]
  },
  {
   "cell_type": "markdown",
   "metadata": {},
   "source": [
    "### Controllare se in una lista esattamente N elementi soddisfano una condizione\n",
    "In questo caso avrai bisogno di contare gli elementi che soddisfano la condizione e confrontare il loro numero con quello richiesto."
   ]
  },
  {
   "cell_type": "code",
   "execution_count": 3,
   "metadata": {},
   "outputs": [],
   "source": [
    "# esattamente N elementi soddisfano la condizione?\n",
    "def almeno_n(L, N):\n",
    "    \n",
    "    conteggio = 0\n",
    "    \n",
    "    for elemento in L:\n",
    "        if condizione(elemento):\n",
    "            conteggio = conteggio + 1\n",
    "        \n",
    "    # finito di controllare gli elementi\n",
    "    # la domanda è \"conteggio è esattamente uguale a N?\"\n",
    "    return conteggio == N"
   ]
  },
  {
   "cell_type": "markdown",
   "metadata": {},
   "source": [
    "## Esercizio 1\n",
    "Dichiarare ed eseguire una funzione che prenda in input due variabili e restituisca True se le variabili sono **diverse**. False se sono uguali."
   ]
  },
  {
   "cell_type": "code",
   "execution_count": 2,
   "metadata": {},
   "outputs": [],
   "source": [
    "def diversita(N,M):\n",
    "    if N != M:\n",
    "        return True\n",
    "    return False\n"
   ]
  },
  {
   "cell_type": "code",
   "execution_count": 6,
   "metadata": {},
   "outputs": [
    {
     "name": "stdout",
     "output_type": "stream",
     "text": [
      "False\n",
      "True\n"
     ]
    }
   ],
   "source": [
    "print(diversita(5,5)) #qui ho fatto il print affinchè mi ritornavano contemporaneamente i risultati!\n",
    "print(diversita(5,6))"
   ]
  },
  {
   "cell_type": "markdown",
   "metadata": {},
   "source": [
    "## Esercizio 2\n",
    "Dichiarare ed eseguire una funzione che prenda in input una lista L ed una variabile V e restituisca True se tra gli elementi della lista L almeno uno è uguale a V. False altrimenti.  \n",
    "**Chiarimento**: questo controllo si può fare con l'espressione \"V in L\", ma vorrei che ti occupassi tu di scrivere un ciclo per farlo."
   ]
  },
  {
   "cell_type": "code",
   "execution_count": 9,
   "metadata": {},
   "outputs": [],
   "source": [
    "def elemento(L,V):\n",
    "    for variabile in L:\n",
    "        if variabile == V:\n",
    "            return True\n",
    "    return False"
   ]
  },
  {
   "cell_type": "code",
   "execution_count": 11,
   "metadata": {},
   "outputs": [
    {
     "name": "stdout",
     "output_type": "stream",
     "text": [
      "True\n",
      "True\n",
      "False\n"
     ]
    }
   ],
   "source": [
    "print(elemento ([2,5,6,4,7],2))\n",
    "print(elemento ([2,5,7,4],5))\n",
    "print(elemento ([2,5,7,4],1))"
   ]
  },
  {
   "cell_type": "markdown",
   "metadata": {},
   "source": [
    "### Qui ho fatto lo stesso procedimento di prima, ovvero mando in stampa i risultati per vederli contemporaneamente. Cosa intendi quando dici di scrivere un ciclo? In questo caso non ho fatto il cosidetto ciclo for?###"
   ]
  },
  {
   "cell_type": "markdown",
   "metadata": {},
   "source": [
    "## Esercizio 3\n",
    "Dichiarare ed eseguire una funzione che prenda in input due variabili e restituisca True se sono entrambe di tipo Float, false altrimenti."
   ]
  },
  {
   "cell_type": "code",
   "execution_count": 17,
   "metadata": {},
   "outputs": [],
   "source": [
    "def controllo(M,N):\n",
    "    if type (M) == float and type (N)== float:\n",
    "        return True\n",
    "    return False"
   ]
  },
  {
   "cell_type": "code",
   "execution_count": 22,
   "metadata": {},
   "outputs": [
    {
     "name": "stdout",
     "output_type": "stream",
     "text": [
      "True\n",
      "False\n",
      "False\n"
     ]
    }
   ],
   "source": [
    "print(controllo(1.1,4.2))\n",
    "print(controllo(1.1,4))\n",
    "print(controllo(1,2))\n"
   ]
  },
  {
   "cell_type": "markdown",
   "metadata": {},
   "source": [
    "## Esercizio 4\n",
    "Dichiarare ed eseguire una funzione che prenda in input due variabili e restituisca True se sono entrambe Float o entrambe int.  \n",
    "**Consiglio**: la funzione dell'esercizio precedente restituisce già True se sono entrambe float, quindi puoi riutilizzarla nell'espressione di questa funzione."
   ]
  },
  {
   "cell_type": "code",
   "execution_count": 40,
   "metadata": {},
   "outputs": [],
   "source": [
    "def variabili(M,N):\n",
    "    if type (M) == int and type (N)== int or controllo(M,N):\n",
    "        return True\n",
    "    return False\n"
   ]
  },
  {
   "cell_type": "code",
   "execution_count": 42,
   "metadata": {},
   "outputs": [
    {
     "name": "stdout",
     "output_type": "stream",
     "text": [
      "True\n",
      "True\n",
      "False\n"
     ]
    }
   ],
   "source": [
    "print(variabili(1,6))\n",
    "print(variabili(1.1,2.5))\n",
    "print(variabili(1.2,6))"
   ]
  },
  {
   "cell_type": "markdown",
   "metadata": {},
   "source": [
    "## Esercizio 5\n",
    "Dichiarare ed eseguire una funzione che prenda in input una lista L, una variabile V ed un numero N e restituisca True se la variabile V compare almeno N volte nella lista."
   ]
  },
  {
   "cell_type": "markdown",
   "metadata": {},
   "source": [
    "### Mi dispiace ma seguendo anche il tuo esempio non riesco! o meglio non riesco ad imporre la condizione!###"
   ]
  },
  {
   "cell_type": "code",
   "execution_count": 53,
   "metadata": {},
   "outputs": [],
   "source": [
    "def almeno_uno(L,V,N):\n",
    "    for elementi in L:\n",
    "        if elementi == V and V == N : # questa condizione come quella su so perfettamente che è sbagliata, perche' ho posto la condizione\n",
    "                       #che V==N non so trdurre in linguaggio COMPARE ALMENO UNA VOLTA!\n",
    "            return True\n",
    "       "
   ]
  },
  {
   "cell_type": "code",
   "execution_count": 54,
   "metadata": {},
   "outputs": [],
   "source": [
    "almeno_uno ([2,5,6,2,2,3,3,5],2,1)"
   ]
  },
  {
   "cell_type": "markdown",
   "metadata": {},
   "source": [
    "## Esercizio 6\n",
    "Dichiarare ed eseguire una funzione che prenda in input una lista L di numeri ed un numero N e restituisca True se tutti i numeri nella lista sono maggiori o uguali ad N."
   ]
  },
  {
   "cell_type": "markdown",
   "metadata": {},
   "source": [
    "### esercizio corretto! Dunque la scrittura L[:]è giusta? Perchè cosi è come se dicessi al programma TUTTI I NUM DELLA LISTA?GIUSTO?  eseguando il programma per numeri : 1-2-3-4 esce true, effettivamente così deve uscire! Spero vada bene !###"
   ]
  },
  {
   "cell_type": "code",
   "execution_count": 40,
   "metadata": {},
   "outputs": [],
   "source": [
    "def tutti(L,N):\n",
    "    for numeri in L[:]:\n",
    "        if not numeri >= N:\n",
    "            return False\n",
    "    return True\n"
   ]
  },
  {
   "cell_type": "code",
   "execution_count": 52,
   "metadata": {},
   "outputs": [
    {
     "data": {
      "text/plain": [
       "True"
      ]
     },
     "execution_count": 52,
     "metadata": {},
     "output_type": "execute_result"
    }
   ],
   "source": [
    "tutti([5,9,4,7],3)"
   ]
  }
 ],
 "metadata": {
  "kernelspec": {
   "display_name": "Python 3",
   "language": "python",
   "name": "python3"
  },
  "language_info": {
   "codemirror_mode": {
    "name": "ipython",
    "version": 3
   },
   "file_extension": ".py",
   "mimetype": "text/x-python",
   "name": "python",
   "nbconvert_exporter": "python",
   "pygments_lexer": "ipython3",
   "version": "3.8.3"
  }
 },
 "nbformat": 4,
 "nbformat_minor": 4
}
